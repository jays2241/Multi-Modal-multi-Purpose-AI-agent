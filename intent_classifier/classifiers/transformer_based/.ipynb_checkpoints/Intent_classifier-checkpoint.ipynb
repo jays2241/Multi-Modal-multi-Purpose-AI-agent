{
 "cells": [
  {
   "cell_type": "markdown",
   "id": "5a38304d-e687-44cc-9ce7-03dc242e1706",
   "metadata": {},
   "source": [
    "# Intent classifier using BERT"
   ]
  },
  {
   "cell_type": "markdown",
   "id": "0c141c45-032b-4b0d-8bd0-c55465910dcf",
   "metadata": {},
   "source": [
    "## Import libraries"
   ]
  },
  {
   "cell_type": "code",
   "execution_count": null,
   "id": "4aff0723-849d-40fe-a86f-49204ef24068",
   "metadata": {},
   "outputs": [],
   "source": [
    "import pandas as pd\n",
    "import torch\n",
    "from torch.utils.data import DataLoader, Dataset\n",
    "from transformers import BertTokenizer, BertForSequenceClassification\n",
    "from sklearn.model_selection import train_test_split\n",
    "from sklearn.preprocessing import LabelEncoder\n",
    "from torch.optim import AdamW\n",
    "from torch.nn import CrossEntropyLoss\n",
    "import glob\n",
    "import os\n",
    "import joblib"
   ]
  },
  {
   "cell_type": "markdown",
   "id": "bf33f884-fbb2-41d6-adf2-c000a3054738",
   "metadata": {},
   "source": [
    "## Load data"
   ]
  },
  {
   "cell_type": "code",
   "execution_count": null,
   "id": "9452ee77-deb9-4fd9-823b-3c4c9c03066c",
   "metadata": {},
   "outputs": [],
   "source": [
    "folder_path = '../../../intent_classifier/data/pre_processed'\n",
    "\n",
    "csv_files = glob.glob(os.path.join(folder_path, '*.csv'))\n",
    "\n",
    "df = pd.concat([pd.read_csv(file) for file in csv_files], ignore_index=True)\n",
    "\n",
    "texts = df['text']\n",
    "labels = df['intent']\n"
   ]
  },
  {
   "cell_type": "markdown",
   "id": "380f1cb7-a8ec-4f11-9a3e-1c8c1a4733f6",
   "metadata": {},
   "source": [
    "## Label Encoding"
   ]
  },
  {
   "cell_type": "code",
   "execution_count": null,
   "id": "f66017fb-aaec-4f45-a77f-9e14e144acb8",
   "metadata": {},
   "outputs": [],
   "source": [
    "label_encoder = LabelEncoder()\n",
    "encoded_labels = label_encoder.fit_transform(labels)\n",
    "num_classes = len(label_encoder.classes_)\n",
    "\n",
    "print(\"\\nLabel Mapping:\")\n",
    "for i, label in enumerate(label_encoder.classes_):\n",
    "    print(f\"{i}: {label}\")"
   ]
  },
  {
   "cell_type": "markdown",
   "id": "798e2024-6c6c-43a1-974c-e6daf6ccffc1",
   "metadata": {},
   "source": [
    "## Tokenizer and Model"
   ]
  },
  {
   "cell_type": "code",
   "execution_count": null,
   "id": "6bbdefbb-0ed4-477e-a669-ec27f210992c",
   "metadata": {},
   "outputs": [],
   "source": [
    "tokenizer = BertTokenizer.from_pretrained('bert-base-uncased')\n",
    "model = BertForSequenceClassification.from_pretrained('bert-base-uncased', num_labels=num_classes)"
   ]
  },
  {
   "cell_type": "markdown",
   "id": "701293a6-d848-4a65-9fdb-9460ef78f117",
   "metadata": {},
   "source": [
    "## Dataset class"
   ]
  },
  {
   "cell_type": "code",
   "execution_count": null,
   "id": "fad1a5c6-3920-4497-b4bf-72946631d26b",
   "metadata": {},
   "outputs": [],
   "source": [
    "class IntentDataset(Dataset):\n",
    "    def __init__(self, texts, labels):\n",
    "        self.encodings = tokenizer(list(texts), truncation=True, padding=True, max_length=64)\n",
    "        self.labels = labels\n",
    "\n",
    "    def __getitem__(self, idx):\n",
    "        return {key: torch.tensor(val[idx]) for key, val in self.encodings.items()} | {'labels': torch.tensor(self.labels[idx])}\n",
    "\n",
    "    def __len__(self):\n",
    "        return len(self.labels)\n"
   ]
  },
  {
   "cell_type": "markdown",
   "id": "f724b4a2-424b-430e-8dba-81d75b5eea90",
   "metadata": {},
   "source": [
    "## Train test split "
   ]
  },
  {
   "cell_type": "code",
   "execution_count": null,
   "id": "b1050059-1051-411f-8b98-44fe11ed393c",
   "metadata": {},
   "outputs": [],
   "source": [
    "X_train, X_test, y_train, y_test = train_test_split(texts, encoded_labels, test_size=0.2, random_state=42)\n",
    "train_dataset = IntentDataset(X_train, y_train)\n",
    "test_dataset = IntentDataset(X_test, y_test)"
   ]
  },
  {
   "cell_type": "markdown",
   "id": "8381f7ef-61e5-4058-830a-69d9b9117892",
   "metadata": {},
   "source": [
    "## Dataloaders"
   ]
  },
  {
   "cell_type": "code",
   "execution_count": null,
   "id": "af05cd5b-1612-40c4-bb68-97128727bf81",
   "metadata": {},
   "outputs": [],
   "source": [
    "train_dataloader = DataLoader(train_dataset, batch_size=4, shuffle=True)\n",
    "test_dataloader = DataLoader(test_dataset, batch_size=4)"
   ]
  },
  {
   "cell_type": "markdown",
   "id": "a7a27d64-fdec-4771-9780-6cf786456a49",
   "metadata": {},
   "source": [
    "## Optimizer"
   ]
  },
  {
   "cell_type": "code",
   "execution_count": null,
   "id": "d6a5eda4-ebed-4c29-9489-7c364d517d00",
   "metadata": {},
   "outputs": [],
   "source": [
    "optimizer = AdamW(model.parameters(), lr=1e-5)\n",
    "loss_fn = CrossEntropyLoss()"
   ]
  },
  {
   "cell_type": "markdown",
   "id": "c26e8d79-ede0-4076-b178-202e6828b189",
   "metadata": {},
   "source": [
    "## Training Loop"
   ]
  },
  {
   "cell_type": "code",
   "execution_count": null,
   "id": "fcdf3338-aa7c-404c-b8ca-7f4341bfccfd",
   "metadata": {},
   "outputs": [],
   "source": [
    "device = torch.device(\"cuda\" if torch.cuda.is_available() else \"cpu\")\n",
    "model.to(device)\n",
    "\n",
    "def train(model, dataloader, optimizer, loss_fn):\n",
    "    model.train()\n",
    "    total_loss = 0\n",
    "    for batch in dataloader:\n",
    "        optimizer.zero_grad()\n",
    "        inputs = {key: val.to(device) for key, val in batch.items()}\n",
    "        labels = inputs.pop('labels')\n",
    "\n",
    "        outputs = model(**inputs)\n",
    "        loss = loss_fn(outputs.logits, labels)\n",
    "        loss.backward()\n",
    "        optimizer.step()\n",
    "        total_loss += loss.item()\n",
    "    return total_loss / len(dataloader)\n"
   ]
  },
  {
   "cell_type": "markdown",
   "id": "33a89bfc-49e7-4965-8093-a0ec22fa3c8e",
   "metadata": {},
   "source": [
    "## Evaluation loop"
   ]
  },
  {
   "cell_type": "code",
   "execution_count": null,
   "id": "6f5a44e2-94af-4831-9fad-c05769947070",
   "metadata": {},
   "outputs": [],
   "source": [
    "def evaluate(model, dataloader, loss_fn):\n",
    "    model.eval()\n",
    "    total_loss = 0\n",
    "    correct_preds = 0\n",
    "    total_preds = 0\n",
    "    with torch.no_grad():\n",
    "        for batch in dataloader:\n",
    "            inputs = {key: val.to(device) for key, val in batch.items()}\n",
    "            labels = inputs.pop('labels')\n",
    "\n",
    "            outputs = model(**inputs)\n",
    "            loss = loss_fn(outputs.logits, labels)\n",
    "            total_loss += loss.item()\n",
    "\n",
    "            preds = torch.argmax(outputs.logits, dim=1)\n",
    "            correct_preds += (preds == labels).sum().item()\n",
    "            total_preds += labels.size(0)\n",
    "\n",
    "    accuracy = correct_preds / total_preds\n",
    "    return total_loss / len(dataloader), accuracy"
   ]
  },
  {
   "cell_type": "markdown",
   "id": "dc20e39c-20b4-4b76-8dc0-b7f203f2cea7",
   "metadata": {},
   "source": [
    "## Model Training"
   ]
  },
  {
   "cell_type": "code",
   "execution_count": null,
   "id": "d55afc7e-09f6-4bac-ab79-50aad08d8c74",
   "metadata": {},
   "outputs": [],
   "source": [
    "epochs = 5\n",
    "for epoch in range(epochs):\n",
    "    train_loss = train(model, train_dataloader, optimizer, loss_fn)\n",
    "    val_loss, val_accuracy = evaluate(model, test_dataloader, loss_fn)\n",
    "\n",
    "    print(f\"\\nEpoch {epoch+1}\")\n",
    "    print(f\"  Train Loss: {train_loss:.4f}\")\n",
    "    print(f\"  Val Loss:   {val_loss:.4f}\")\n",
    "    print(f\"  Val Acc:    {val_accuracy:.2%}\")\n"
   ]
  },
  {
   "cell_type": "markdown",
   "id": "e200b4db-bccd-4c62-ba0b-94b897654be3",
   "metadata": {},
   "source": [
    "## Predict Intent function"
   ]
  },
  {
   "cell_type": "code",
   "execution_count": null,
   "id": "77f2b62c-7f7f-48fe-9ea3-d3ff3874a3a6",
   "metadata": {},
   "outputs": [],
   "source": [
    "def predict_intent(query):\n",
    "    model.eval()\n",
    "    inputs = tokenizer(query, return_tensors=\"pt\", truncation=True, padding=True, max_length=64)\n",
    "    inputs = {key: val.to(device) for key, val in inputs.items()}\n",
    "    \n",
    "    with torch.no_grad():\n",
    "        outputs = model(**inputs)\n",
    "        predicted = torch.argmax(outputs.logits, dim=1).item()\n",
    "    \n",
    "    return label_encoder.inverse_transform([predicted])[0]"
   ]
  },
  {
   "cell_type": "markdown",
   "id": "44cc5327-e6e3-4033-81a5-c60cd2bddb99",
   "metadata": {},
   "source": [
    "## Testing"
   ]
  },
  {
   "cell_type": "code",
   "execution_count": null,
   "id": "b5b8b449-f13a-4750-bbe6-83d992f44b4d",
   "metadata": {},
   "outputs": [],
   "source": [
    "test_query = \"Create notes from this document\"\n",
    "predict_intent(test_query)\n"
   ]
  },
  {
   "cell_type": "code",
   "execution_count": null,
   "id": "0e5f42ee-7b46-42ea-a920-3d7a891301dd",
   "metadata": {},
   "outputs": [],
   "source": [
    "test_query = \"make it short prepare notes\"\n",
    "predict_intent(test_query)"
   ]
  },
  {
   "cell_type": "markdown",
   "id": "04bf35ce-a96e-4a46-b0f6-74447e7e3264",
   "metadata": {},
   "source": [
    "## Model Saving"
   ]
  },
  {
   "cell_type": "code",
   "execution_count": null,
   "id": "3b0d150f-cc28-48a6-ab6a-60f38d8ed0c2",
   "metadata": {},
   "outputs": [],
   "source": [
    "model.save_pretrained(\"intent_model\")\n",
    "\n",
    "tokenizer.save_pretrained(\"intent_model\")\n",
    "\n",
    "joblib.dump(label_encoder, \"intent_model/label_encoder.pkl\")\n",
    "\n",
    "print(\"✅ Model, tokenizer, and label encoder saved to 'intent_model/'\")\n"
   ]
  },
  {
   "cell_type": "code",
   "execution_count": null,
   "id": "bd78178a-a086-4345-aa82-f1bb36925d4e",
   "metadata": {},
   "outputs": [],
   "source": []
  }
 ],
 "metadata": {
  "kernelspec": {
   "display_name": "Python 3 (ipykernel)",
   "language": "python",
   "name": "python3"
  },
  "language_info": {
   "codemirror_mode": {
    "name": "ipython",
    "version": 3
   },
   "file_extension": ".py",
   "mimetype": "text/x-python",
   "name": "python",
   "nbconvert_exporter": "python",
   "pygments_lexer": "ipython3",
   "version": "3.13.5"
  }
 },
 "nbformat": 4,
 "nbformat_minor": 5
}
