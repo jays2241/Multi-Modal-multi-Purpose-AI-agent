{
 "cells": [
  {
   "cell_type": "code",
   "execution_count": 11,
   "id": "df73ff41-b687-4764-8db4-70d12114f159",
   "metadata": {},
   "outputs": [],
   "source": [
    "import pandas as pd\n",
    "import torch\n",
    "from torch.utils.data import DataLoader, Dataset\n",
    "from transformers import BertTokenizer, BertForSequenceClassification\n",
    "from sklearn.model_selection import train_test_split\n",
    "from sklearn.preprocessing import LabelEncoder\n",
    "from torch.optim import AdamW\n",
    "from torch.nn import CrossEntropyLoss\n",
    "import glob\n",
    "import os\n",
    "import json"
   ]
  },
  {
   "cell_type": "code",
   "execution_count": 12,
   "id": "870809e1-2dcd-49c3-b64c-0632f2c0b348",
   "metadata": {},
   "outputs": [],
   "source": [
    "folder_path = '../../../intent_classifier/data/pre_processed'\n",
    "\n",
    "csv_files = glob.glob(os.path.join(folder_path, '*.csv'))\n",
    "\n",
    "df = pd.concat([pd.read_csv(file) for file in csv_files], ignore_index=True)\n",
    "\n",
    "df = df[['text', 'intent']].dropna()\n"
   ]
  },
  {
   "cell_type": "code",
   "execution_count": 13,
   "id": "1fb6d8cd-80f0-48e4-98b8-9b8a0c378680",
   "metadata": {},
   "outputs": [],
   "source": [
    "label_encoder = LabelEncoder()\n",
    "df['label'] = label_encoder.fit_transform(df['intent'])"
   ]
  },
  {
   "cell_type": "code",
   "execution_count": 17,
   "id": "64e20496-e1e1-4829-bb27-a942d1fd6d41",
   "metadata": {},
   "outputs": [],
   "source": [
    "label2id = dict(zip(label_encoder.classes_, label_encoder.transform(label_encoder.classes_)))\n",
    "id2label = dict(zip(label_encoder.transform(label_encoder.classes_), label_encoder.classes_))\n",
    "\n",
    "label2id_clean = {str(k): int(v) for k, v in label2id.items()} # doing this because because the dictionary contains values of type numpy.int64, which Python’s built-in json module cannot serialize by default.\n",
    "id2label_clean = {int(k): str(v) for k, v in id2label.items()} "
   ]
  },
  {
   "cell_type": "code",
   "execution_count": 18,
   "id": "23492468-1c7b-491c-9077-30cefb6537da",
   "metadata": {},
   "outputs": [
    {
     "data": {
      "text/html": [
       "<div>\n",
       "<style scoped>\n",
       "    .dataframe tbody tr th:only-of-type {\n",
       "        vertical-align: middle;\n",
       "    }\n",
       "\n",
       "    .dataframe tbody tr th {\n",
       "        vertical-align: top;\n",
       "    }\n",
       "\n",
       "    .dataframe thead th {\n",
       "        text-align: right;\n",
       "    }\n",
       "</style>\n",
       "<table border=\"1\" class=\"dataframe\">\n",
       "  <thead>\n",
       "    <tr style=\"text-align: right;\">\n",
       "      <th></th>\n",
       "      <th>text</th>\n",
       "      <th>intent</th>\n",
       "      <th>label</th>\n",
       "    </tr>\n",
       "  </thead>\n",
       "  <tbody>\n",
       "    <tr>\n",
       "      <th>0</th>\n",
       "      <td>id love to hear this read out loud</td>\n",
       "      <td>convert_to_audio</td>\n",
       "      <td>0</td>\n",
       "    </tr>\n",
       "    <tr>\n",
       "      <th>1</th>\n",
       "      <td>could you turn this script into an audio file</td>\n",
       "      <td>convert_to_audio</td>\n",
       "      <td>0</td>\n",
       "    </tr>\n",
       "    <tr>\n",
       "      <th>2</th>\n",
       "      <td>please make this sentence audible</td>\n",
       "      <td>convert_to_audio</td>\n",
       "      <td>0</td>\n",
       "    </tr>\n",
       "    <tr>\n",
       "      <th>3</th>\n",
       "      <td>transform these lines into voice format</td>\n",
       "      <td>convert_to_audio</td>\n",
       "      <td>0</td>\n",
       "    </tr>\n",
       "    <tr>\n",
       "      <th>4</th>\n",
       "      <td>produce an mp3 from this message</td>\n",
       "      <td>convert_to_audio</td>\n",
       "      <td>0</td>\n",
       "    </tr>\n",
       "  </tbody>\n",
       "</table>\n",
       "</div>"
      ],
      "text/plain": [
       "                                            text            intent  label\n",
       "0             id love to hear this read out loud  convert_to_audio      0\n",
       "1  could you turn this script into an audio file  convert_to_audio      0\n",
       "2              please make this sentence audible  convert_to_audio      0\n",
       "3        transform these lines into voice format  convert_to_audio      0\n",
       "4               produce an mp3 from this message  convert_to_audio      0"
      ]
     },
     "execution_count": 18,
     "metadata": {},
     "output_type": "execute_result"
    }
   ],
   "source": [
    "df.head()"
   ]
  },
  {
   "cell_type": "code",
   "execution_count": 20,
   "id": "54e1e1be-0e7c-4213-847c-9df3e160c290",
   "metadata": {},
   "outputs": [],
   "source": [
    "with open(\"label2id.json\", \"w\") as f:\n",
    "    json.dump(label2id_clean, f)\n",
    "\n",
    "\n",
    "with open(\"id2label.json\", \"w\") as f:\n",
    "    json.dump(id2label_clean, f)"
   ]
  },
  {
   "cell_type": "code",
   "execution_count": null,
   "id": "8727d6c8-b5f7-4c7c-b20e-c3e2f5a549fe",
   "metadata": {},
   "outputs": [],
   "source": []
  },
  {
   "cell_type": "code",
   "execution_count": null,
   "id": "86d3dd9e-c214-4fd9-a7bb-8f7e9a09e0c2",
   "metadata": {},
   "outputs": [],
   "source": []
  }
 ],
 "metadata": {
  "kernelspec": {
   "display_name": "Python 3 (ipykernel)",
   "language": "python",
   "name": "python3"
  },
  "language_info": {
   "codemirror_mode": {
    "name": "ipython",
    "version": 3
   },
   "file_extension": ".py",
   "mimetype": "text/x-python",
   "name": "python",
   "nbconvert_exporter": "python",
   "pygments_lexer": "ipython3",
   "version": "3.13.5"
  }
 },
 "nbformat": 4,
 "nbformat_minor": 5
}
