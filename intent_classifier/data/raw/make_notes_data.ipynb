{
 "cells": [
  {
   "cell_type": "markdown",
   "id": "483be2b0-9ee6-4b15-a763-4dbc6302fc08",
   "metadata": {},
   "source": [
    "# Make notes intent data"
   ]
  },
  {
   "cell_type": "markdown",
   "id": "cb09c054-8e62-4bfc-808a-5a4569cc08ec",
   "metadata": {},
   "source": [
    "## Import libraries"
   ]
  },
  {
   "cell_type": "code",
   "execution_count": 7,
   "id": "34c069c3-b6f3-4ac1-8e77-57e9ad85d17c",
   "metadata": {},
   "outputs": [],
   "source": [
    "import random\n",
    "import pandas as pd\n"
   ]
  },
  {
   "cell_type": "markdown",
   "id": "89d938a1-1a0b-4b0d-b23b-ec9a8d27d956",
   "metadata": {},
   "source": [
    "## Generated data"
   ]
  },
  {
   "cell_type": "code",
   "execution_count": 8,
   "id": "c8317443-325e-4dc1-bb06-13470bf39bc1",
   "metadata": {},
   "outputs": [],
   "source": [
    "data1 = [\n",
    "  {\"text\": \"Summarize these notes for me\", \"intent\": \"make_notes\"},\n",
    "  {\"text\": \"Please make notes from this image\", \"intent\": \"make_notes\"},\n",
    "  {\"text\": \"Can you extract notes from this handwriting?\", \"intent\": \"make_notes\"},\n",
    "  {\"text\": \"Convert this photo into neat notes\", \"intent\": \"make_notes\"},\n",
    "  {\"text\": \"Create study notes from this page\", \"intent\": \"make_notes\"},\n",
    "  {\"text\": \"I need a summary of these handwritten notes\", \"intent\": \"make_notes\"},\n",
    "  {\"text\": \"Turn this picture into organized notes\", \"intent\": \"make_notes\"},\n",
    "  {\"text\": \"Can you write notes from this scan?\", \"intent\": \"make_notes\"},\n",
    "  {\"text\": \"Generate clean notes from this image\", \"intent\": \"make_notes\"},\n",
    "  {\"text\": \"Summarize what's written here\", \"intent\": \"make_notes\"},\n",
    "  {\"text\": \"OCR and make notes from this document\", \"intent\": \"make_notes\"},\n",
    "  {\"text\": \"Extract text and make proper notes\", \"intent\": \"make_notes\"},\n",
    "  {\"text\": \"Write a summary of these notes\", \"intent\": \"make_notes\"},\n",
    "  {\"text\": \"Turn this document image into readable notes\", \"intent\": \"make_notes\"},\n",
    "  {\"text\": \"Analyze this photo and generate notes\", \"intent\": \"make_notes\"},\n",
    "  {\"text\": \"Make proper formatted notes from this\", \"intent\": \"make_notes\"},\n",
    "  {\"text\": \"Clean and summarize these notes\", \"intent\": \"make_notes\"},\n",
    "  {\"text\": \"Get notes out of this handwriting\", \"intent\": \"make_notes\"},\n",
    "  {\"text\": \"Hey GPT, summarize this for me\", \"intent\": \"make_notes\"},\n",
    "  {\"text\": \"Transform this pic into digital notes\", \"intent\": \"make_notes\"},\n",
    "  {\"text\": \"Can you convert this into a clean note format?\", \"intent\": \"make_notes\"},\n",
    "  {\"text\": \"I'd like to make notes from this image\", \"intent\": \"make_notes\"},\n",
    "  {\"text\": \"Generate quick notes from this scan\", \"intent\": \"make_notes\"},\n",
    "  {\"text\": \"Can you summarize these paragraphs?\", \"intent\": \"make_notes\"},\n",
    "  {\"text\": \"Summarize this and format it as notes\", \"intent\": \"make_notes\"},\n",
    "  {\"text\": \"From this image, make a bullet-point summary\", \"intent\": \"make_notes\"},\n",
    "  {\"text\": \"OCR and summarize the content\", \"intent\": \"make_notes\"},\n",
    "  {\"text\": \"Make digital notes from this rough page\", \"intent\": \"make_notes\"},\n",
    "  {\"text\": \"Turn this into properly formatted notes\", \"intent\": \"make_notes\"},\n",
    "  {\"text\": \"Please generate clean study notes\", \"intent\": \"make_notes\"},\n",
    "  {\"text\": \"Extract information and make notes\", \"intent\": \"make_notes\"},\n",
    "  {\"text\": \"Can you clean this up and give notes?\", \"intent\": \"make_notes\"},\n",
    "  {\"text\": \"Turn this page into a summarized note\", \"intent\": \"make_notes\"},\n",
    "  {\"text\": \"Can I get a summary from this paper?\", \"intent\": \"make_notes\"},\n",
    "  {\"text\": \"Make a structured summary out of this\", \"intent\": \"make_notes\"},\n",
    "  {\"text\": \"Analyze this content and make notes\", \"intent\": \"make_notes\"},\n",
    "  {\"text\": \"I'd like a summary of this handwritten material\", \"intent\": \"make_notes\"},\n",
    "  {\"text\": \"Take this scan and make nice notes\", \"intent\": \"make_notes\"},\n",
    "  {\"text\": \"Process this image and write short notes\", \"intent\": \"make_notes\"},\n",
    "  {\"text\": \"Make concise notes from this image\", \"intent\": \"make_notes\"},\n",
    "  {\"text\": \"Generate clear points from this image\", \"intent\": \"make_notes\"},\n",
    "  {\"text\": \"Can you summarize this handwritten text?\", \"intent\": \"make_notes\"},\n",
    "  {\"text\": \"Please format this into lecture notes\", \"intent\": \"make_notes\"},\n",
    "  {\"text\": \"Give me the points from this content\", \"intent\": \"make_notes\"},\n",
    "  {\"text\": \"Create notes out of this content\", \"intent\": \"make_notes\"},\n",
    "  {\"text\": \"Summarize this image using OCR\", \"intent\": \"make_notes\"},\n",
    "  {\"text\": \"Take this input and create notes\", \"intent\": \"make_notes\"},\n",
    "  {\"text\": \"Summarize and organize this writing\", \"intent\": \"make_notes\"},\n",
    "  {\"text\": \"Generate highlights from this text image\", \"intent\": \"make_notes\"},\n",
    "  {\"text\": \"Can you make study notes from this?\", \"intent\": \"make_notes\"},\n",
    "  {\"text\": \"Convert this image text to summarized points\", \"intent\": \"make_notes\"}\n",
    "]\n",
    "data2 = [\n",
    "    {\"text\": \"Can you generate notes from this?\", \"intent\": \"make_notes\"},\n",
    "    {\"text\": \"Please summarize the content of this image\", \"intent\": \"make_notes\"},\n",
    "    {\"text\": \"I need a short version of this text\", \"intent\": \"make_notes\"},\n",
    "    {\"text\": \"Turn this page into notes\", \"intent\": \"make_notes\"},\n",
    "    {\"text\": \"Make short notes out of this image\", \"intent\": \"make_notes\"},\n",
    "    {\"text\": \"Generate points from this document\", \"intent\": \"make_notes\"},\n",
    "    {\"text\": \"What are the key points from this?\", \"intent\": \"make_notes\"},\n",
    "    {\"text\": \"Create summary notes for this content\", \"intent\": \"make_notes\"},\n",
    "    {\"text\": \"Read this and make notes\", \"intent\": \"make_notes\"},\n",
    "    {\"text\": \"Please condense this into bullet points\", \"intent\": \"make_notes\"},\n",
    "    {\"text\": \"Convert this text into note format\", \"intent\": \"make_notes\"},\n",
    "    {\"text\": \"Extract highlights from this\", \"intent\": \"make_notes\"},\n",
    "    {\"text\": \"Note down the important parts\", \"intent\": \"make_notes\"},\n",
    "    {\"text\": \"Summarize what's written here\", \"intent\": \"make_notes\"},\n",
    "    {\"text\": \"Give me a quick summary of this\", \"intent\": \"make_notes\"},\n",
    "    {\"text\": \"Make study notes from this\", \"intent\": \"make_notes\"},\n",
    "    {\"text\": \"Break this down into notes\", \"intent\": \"make_notes\"},\n",
    "    {\"text\": \"Scan this and give me notes\", \"intent\": \"make_notes\"},\n",
    "    {\"text\": \"Turn this into a summary for revision\", \"intent\": \"make_notes\"},\n",
    "    {\"text\": \"Pick out important details from this\", \"intent\": \"make_notes\"},\n",
    "    {\"text\": \"I want notes for this topic\", \"intent\": \"make_notes\"},\n",
    "    {\"text\": \"Help me convert this into a notes format\", \"intent\": \"make_notes\"},\n",
    "    {\"text\": \"Extract useful points from this page\", \"intent\": \"make_notes\"},\n",
    "    {\"text\": \"Get me a summary based on this image\", \"intent\": \"make_notes\"},\n",
    "    {\"text\": \"Create concise notes from this input\", \"intent\": \"make_notes\"},\n",
    "    {\"text\": \"Take this and make it into study notes\", \"intent\": \"make_notes\"},\n",
    "    {\"text\": \"Give an overview of the content here\", \"intent\": \"make_notes\"},\n",
    "    {\"text\": \"Give me main points from this document\", \"intent\": \"make_notes\"},\n",
    "    {\"text\": \"Can you extract notes from the uploaded file?\", \"intent\": \"make_notes\"},\n",
    "    {\"text\": \"Need a short note on this content\", \"intent\": \"make_notes\"},\n",
    "    {\"text\": \"Summarize the image text into notes\", \"intent\": \"make_notes\"},\n",
    "    {\"text\": \"Give me a list of main points from this image\", \"intent\": \"make_notes\"},\n",
    "    {\"text\": \"Help summarize this paper\", \"intent\": \"make_notes\"},\n",
    "    {\"text\": \"Make notes from this screenshot\", \"intent\": \"make_notes\"},\n",
    "    {\"text\": \"Simplify and summarize this document\", \"intent\": \"make_notes\"},\n",
    "    {\"text\": \"I need help converting this into note form\", \"intent\": \"make_notes\"},\n",
    "    {\"text\": \"Get me the core ideas from this\", \"intent\": \"make_notes\"},\n",
    "    {\"text\": \"Turn these paragraphs into notes\", \"intent\": \"make_notes\"},\n",
    "    {\"text\": \"Give me condensed notes for this\", \"intent\": \"make_notes\"},\n",
    "    {\"text\": \"Extract and organize key information from this\", \"intent\": \"make_notes\"},\n",
    "    {\"text\": \"List out all key points mentioned here\", \"intent\": \"make_notes\"},\n",
    "    {\"text\": \"Give a note summary of the below content\", \"intent\": \"make_notes\"},\n",
    "    {\"text\": \"Generate summarized version of this\", \"intent\": \"make_notes\"},\n",
    "    {\"text\": \"Make crisp notes from the below data\", \"intent\": \"make_notes\"},\n",
    "    {\"text\": \"Analyze and return the notes\", \"intent\": \"make_notes\"},\n",
    "    {\"text\": \"Extract notes from scanned file\", \"intent\": \"make_notes\"},\n",
    "    {\"text\": \"Parse this image and create a note\", \"intent\": \"make_notes\"},\n",
    "    {\"text\": \"What are the main takeaways from this?\", \"intent\": \"make_notes\"},\n",
    "    {\"text\": \"Turn this educational content into notes\", \"intent\": \"make_notes\"},\n",
    "    {\"text\": \"Transform this into revision notes\", \"intent\": \"make_notes\"},\n",
    "]\n",
    "data = data1 + data2"
   ]
  },
  {
   "cell_type": "code",
   "execution_count": 9,
   "id": "0f5a070f-a767-49c7-a7dc-1573d4a0352c",
   "metadata": {},
   "outputs": [],
   "source": [
    "base_phrases = [\n",
    "    \"make notes\",\n",
    "    \"create notes\",\n",
    "    \"generate notes\",\n",
    "    \"summarize this\",\n",
    "    \"convert image to notes\",\n",
    "    \"make a summary\",\n",
    "    \"extract notes\",\n",
    "    \"get notes from image\",\n",
    "    \"summarize this image\",\n",
    "    \"generate summary\"\n",
    "]"
   ]
  },
  {
   "cell_type": "code",
   "execution_count": 10,
   "id": "de11da5c-ec4f-4f75-a3f2-c08e03130692",
   "metadata": {},
   "outputs": [],
   "source": [
    "prefixes = [\n",
    "    \"can you\", \"please\", \"hey\", \"could you\", \"would you kindly\", \"I want to\",\n",
    "    \"I'd like to\", \"can u\", \"will you\", \"can I\"\n",
    "]"
   ]
  },
  {
   "cell_type": "code",
   "execution_count": 11,
   "id": "e35bcb4a-e19d-4d01-b108-c9ce51ca1a99",
   "metadata": {},
   "outputs": [],
   "source": [
    "suffixes = [\n",
    "    \"for me\", \"now\", \"from this\", \"quickly\", \"from this image\", \"from picture\", \"from photo\",\n",
    "    \"from scanned image\", \"using OCR\", \"ASAP\", \"automatically\",\".\"\n",
    "]"
   ]
  },
  {
   "cell_type": "code",
   "execution_count": 15,
   "id": "3a25ba4f-7c55-4335-a35e-e9a720a9537b",
   "metadata": {},
   "outputs": [
    {
     "name": "stdout",
     "output_type": "stream",
     "text": [
      "DataFrame shape: (2101, 2)\n",
      "CSV file has been saved successfully.\n"
     ]
    }
   ],
   "source": [
    "import pandas as pd\n",
    "import random\n",
    "\n",
    "try:\n",
    "    samples = []\n",
    "    for _ in range(1000):\n",
    "        prefix = random.choice(prefixes + [\"\"])\n",
    "        base = random.choice(base_phrases)\n",
    "        suffix = random.choice(suffixes + [\"\"])\n",
    "        text = \" \".join([prefix, base, suffix]).strip()\n",
    "        text = \" \".join(text.split())\n",
    "        samples.append({\"text\": text, \"intent\": \"make_notes\"})\n",
    "\n",
    "    data = data + samples\n",
    "    df = pd.DataFrame(data)\n",
    "    print(f\"DataFrame shape: {df.shape}\")\n",
    "    df.to_csv(\"make_notes_data.csv\", index=False)\n",
    "    print(\"CSV file saved successfully.\")\n",
    "\n",
    "except Exception as e:\n",
    "    print(f\"error occurred: {e}\")\n"
   ]
  },
  {
   "cell_type": "code",
   "execution_count": 16,
   "id": "acd939f7-0c5f-43ad-afe3-82344854c1a9",
   "metadata": {},
   "outputs": [
    {
     "data": {
      "text/plain": [
       "(2101, 2)"
      ]
     },
     "execution_count": 16,
     "metadata": {},
     "output_type": "execute_result"
    }
   ],
   "source": [
    "df.shape"
   ]
  },
  {
   "cell_type": "code",
   "execution_count": null,
   "id": "70c5e8d7-d78f-428a-a09d-ea23ed72ba0e",
   "metadata": {},
   "outputs": [],
   "source": []
  },
  {
   "cell_type": "code",
   "execution_count": null,
   "id": "3bde807c-66e2-4d42-b58d-54d829baeba6",
   "metadata": {},
   "outputs": [],
   "source": []
  }
 ],
 "metadata": {
  "kernelspec": {
   "display_name": "Python 3 (ipykernel)",
   "language": "python",
   "name": "python3"
  },
  "language_info": {
   "codemirror_mode": {
    "name": "ipython",
    "version": 3
   },
   "file_extension": ".py",
   "mimetype": "text/x-python",
   "name": "python",
   "nbconvert_exporter": "python",
   "pygments_lexer": "ipython3",
   "version": "3.13.5"
  }
 },
 "nbformat": 4,
 "nbformat_minor": 5
}
